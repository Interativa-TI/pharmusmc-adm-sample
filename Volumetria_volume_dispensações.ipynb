{
  "nbformat": 4,
  "nbformat_minor": 0,
  "metadata": {
    "colab": {
      "provenance": [],
      "authorship_tag": "ABX9TyNsu5tUWxnNeXuz1oEauWZj",
      "include_colab_link": true
    },
    "kernelspec": {
      "name": "python3",
      "display_name": "Python 3"
    },
    "language_info": {
      "name": "python"
    }
  },
  "cells": [
    {
      "cell_type": "markdown",
      "metadata": {
        "id": "view-in-github",
        "colab_type": "text"
      },
      "source": [
        "<a href=\"https://colab.research.google.com/github/Interativa-TI/pharmusmc-adm-sample/blob/main/Volumetria_volume_dispensa%C3%A7%C3%B5es.ipynb\" target=\"_parent\"><img src=\"https://colab.research.google.com/assets/colab-badge.svg\" alt=\"Open In Colab\"/></a>"
      ]
    },
    {
      "cell_type": "markdown",
      "source": [
        "# Pharmus MC\n",
        "## Exemplo de análise\n",
        "* Importação da planilha **volumetria_clientes.xlsx**\n",
        "* Análise da métrica receita_disp referente a quantidade de receitas dispensadas por cada loja por mês\n",
        "\n"
      ],
      "metadata": {
        "id": "5MSl1ypMZvnh"
      }
    },
    {
      "cell_type": "markdown",
      "source": [
        "# Preparando ambiente"
      ],
      "metadata": {
        "id": "h6vQcQzX31Jr"
      }
    },
    {
      "cell_type": "code",
      "execution_count": 76,
      "metadata": {
        "id": "FTwmlyHzsFv9"
      },
      "outputs": [],
      "source": [
        "import pandas as pd"
      ]
    },
    {
      "cell_type": "code",
      "source": [
        "import seaborn as sns"
      ],
      "metadata": {
        "id": "aj9wqgE8coLm"
      },
      "execution_count": 77,
      "outputs": []
    },
    {
      "cell_type": "code",
      "source": [
        "from string import ascii_letters\n",
        "import numpy as np\n",
        "import matplotlib.pyplot as plt"
      ],
      "metadata": {
        "id": "dHHcHvhUuzbc"
      },
      "execution_count": 78,
      "outputs": []
    },
    {
      "cell_type": "code",
      "source": [
        "sns.set_style(\"whitegrid\")"
      ],
      "metadata": {
        "id": "XIgl41zRfaNW"
      },
      "execution_count": 79,
      "outputs": []
    },
    {
      "cell_type": "code",
      "source": [
        "import warnings\n",
        "warnings.filterwarnings('ignore')"
      ],
      "metadata": {
        "id": "fg6M3VV6t5ma"
      },
      "execution_count": 80,
      "outputs": []
    },
    {
      "cell_type": "markdown",
      "source": [
        "# Geral\n",
        "Todas as lojas cadastradas na base"
      ],
      "metadata": {
        "id": "gKawwDTWZXEY"
      }
    },
    {
      "cell_type": "code",
      "source": [
        "dados = pd.read_excel('volumetria_clientes.xlsx', index_col=None, header=None, skiprows=1, dtype={0: str, 1: str, 2: str, 3: float, 4: float, 5: float, 6: float, 7: float, 8: float, 9: float})"
      ],
      "metadata": {
        "id": "aAA8bh8JsR3T"
      },
      "execution_count": 81,
      "outputs": []
    },
    {
      "cell_type": "code",
      "source": [
        "dados.columns = [\"cnpj\", \"razao\", \"fantasia\", \"itens_disp\", \"receitas_disp\", \"itens_pj_disp\", \"notas_pj_disp\", \"sku_disp\", \"itens_comprados\", \"notas_entrada\"]"
      ],
      "metadata": {
        "id": "Yom1yuF_kNZu"
      },
      "execution_count": 82,
      "outputs": []
    },
    {
      "cell_type": "code",
      "source": [
        "total = dados[\"receitas_disp\"].sum()"
      ],
      "metadata": {
        "id": "KufZInrszYGd"
      },
      "execution_count": 83,
      "outputs": []
    },
    {
      "cell_type": "markdown",
      "source": [
        "### Dispersão das lojas por volume de dispensações no mês"
      ],
      "metadata": {
        "id": "3NTyZhM7qa5C"
      }
    },
    {
      "cell_type": "code",
      "source": [
        "\n",
        "plt.xlabel('Lojas')\n",
        "plt.ylabel('Volume')\n",
        "plt.title(\"Distribuição das {qtd} lojas por volume de dispensações\".format(qtd=dados[\"receitas_disp\"].count()))\n",
        "sns.scatterplot(data = dados[\"receitas_disp\"])\n",
        "plt.show()"
      ],
      "metadata": {
        "colab": {
          "base_uri": "https://localhost:8080/",
          "height": 295
        },
        "id": "pNwx3F4Yeez3",
        "outputId": "e3e00de0-1b0e-4844-86ec-6c8b9c4bf5c6"
      },
      "execution_count": 84,
      "outputs": [
        {
          "output_type": "display_data",
          "data": {
            "text/plain": [
              "<Figure size 432x288 with 1 Axes>"
            ],
            "image/png": "[encoded data removed]"
          },
          "metadata": {}
        }
      ]
    },
    {
      "cell_type": "markdown",
      "source": [
        "### Total de lojas"
      ],
      "metadata": {
        "id": "Ezyn5Qn1p35R"
      }
    },
    {
      "cell_type": "code",
      "source": [
        "dados[\"receitas_disp\"].count()"
      ],
      "metadata": {
        "id": "U9ugVI2XiDwT",
        "outputId": "7cd6308f-24ae-447c-d8ab-a12d1c1dfdd9",
        "colab": {
          "base_uri": "https://localhost:8080/"
        }
      },
      "execution_count": 85,
      "outputs": [
        {
          "output_type": "execute_result",
          "data": {
            "text/plain": [
              "186"
            ]
          },
          "metadata": {},
          "execution_count": 85
        }
      ]
    },
    {
      "cell_type": "markdown",
      "source": [
        "### Média de dispensações"
      ],
      "metadata": {
        "id": "Ae5xH2Urp8gA"
      }
    },
    {
      "cell_type": "code",
      "source": [
        "dados[\"receitas_disp\"].mean()"
      ],
      "metadata": {
        "colab": {
          "base_uri": "https://localhost:8080/"
        },
        "id": "yTMcaba6ZLx4",
        "outputId": "ae013462-160f-4c72-d1a5-527fde4dd558"
      },
      "execution_count": 86,
      "outputs": [
        {
          "output_type": "execute_result",
          "data": {
            "text/plain": [
              "49.526881720430104"
            ]
          },
          "metadata": {},
          "execution_count": 86
        }
      ]
    },
    {
      "cell_type": "markdown",
      "source": [
        "### Total de dispensações"
      ],
      "metadata": {
        "id": "1cjuJqe3qCQa"
      }
    },
    {
      "cell_type": "code",
      "source": [
        "dados[\"receitas_disp\"].sum()"
      ],
      "metadata": {
        "id": "kShfpZN6iSQI",
        "outputId": "87e1917e-eddf-4a34-cfb4-e9b5c68bf169",
        "colab": {
          "base_uri": "https://localhost:8080/"
        }
      },
      "execution_count": 87,
      "outputs": [
        {
          "output_type": "execute_result",
          "data": {
            "text/plain": [
              "9212.0"
            ]
          },
          "metadata": {},
          "execution_count": 87
        }
      ]
    },
    {
      "cell_type": "markdown",
      "source": [
        "#Calibragem do limite para classificação volume\n",
        "A variável limite_volume_normal define o limite entre o grupo de lojas que serão consideradas com volume normal ou Alto volume. Ela pode ser definida com base na observação do gráfico de dispersão apresentado anteriormente"
      ],
      "metadata": {
        "id": "-YQs0h27nKQ_"
      }
    },
    {
      "cell_type": "code",
      "source": [
        "limite_volume_normal = 100"
      ],
      "metadata": {
        "id": "dMoHYDyHnRo2"
      },
      "execution_count": 88,
      "outputs": []
    },
    {
      "cell_type": "markdown",
      "source": [
        "# Volume normal\n",
        "Lojas que possuam o total dispensações por mês abaixo do valor definido pela variável limite_volume_normal e acima de zero."
      ],
      "metadata": {
        "id": "khKW_DPiimFA"
      }
    },
    {
      "cell_type": "code",
      "source": [
        "volume_normal = dados.query(\"receitas_disp<={limite}\".format(limite=limite_volume_normal)).query(\"receitas_disp>0\")"
      ],
      "metadata": {
        "id": "kLMtsEDPitvn"
      },
      "execution_count": 89,
      "outputs": []
    },
    {
      "cell_type": "markdown",
      "source": [
        "### Total de lojas com volume normal"
      ],
      "metadata": {
        "id": "EwiGSRhbuo0d"
      }
    },
    {
      "cell_type": "code",
      "source": [
        "volume_normal[\"receitas_disp\"].count()"
      ],
      "metadata": {
        "id": "rybAw3fQjG3O",
        "outputId": "55f85d94-a279-4c9e-9ae5-51575c837cba",
        "colab": {
          "base_uri": "https://localhost:8080/"
        }
      },
      "execution_count": 90,
      "outputs": [
        {
          "output_type": "execute_result",
          "data": {
            "text/plain": [
              "104"
            ]
          },
          "metadata": {},
          "execution_count": 90
        }
      ]
    },
    {
      "cell_type": "markdown",
      "source": [
        "### Total de dispensações do grupo"
      ],
      "metadata": {
        "id": "8cyIff018EPt"
      }
    },
    {
      "cell_type": "code",
      "source": [
        "volume_normal[\"receitas_disp\"].sum()"
      ],
      "metadata": {
        "colab": {
          "base_uri": "https://localhost:8080/"
        },
        "id": "dBmREpf78E_Y",
        "outputId": "041cb0fb-acb3-4c01-bf91-cdbe7d79e353"
      },
      "execution_count": 91,
      "outputs": [
        {
          "output_type": "execute_result",
          "data": {
            "text/plain": [
              "3096.0"
            ]
          },
          "metadata": {},
          "execution_count": 91
        }
      ]
    },
    {
      "cell_type": "markdown",
      "source": [
        "### Representação em relação ao volume total"
      ],
      "metadata": {
        "id": "njQMjgXruwbK"
      }
    },
    {
      "cell_type": "code",
      "source": [
        "(volume_normal[\"receitas_disp\"].sum() / total) * 100"
      ],
      "metadata": {
        "id": "fkJMrzJ6jlz_",
        "outputId": "f28186fa-b9ec-4fab-9cd0-3b4068a6521d",
        "colab": {
          "base_uri": "https://localhost:8080/"
        }
      },
      "execution_count": 92,
      "outputs": [
        {
          "output_type": "execute_result",
          "data": {
            "text/plain": [
              "33.608336951801995"
            ]
          },
          "metadata": {},
          "execution_count": 92
        }
      ]
    },
    {
      "cell_type": "markdown",
      "source": [
        "### Representação em relação ao total de lojas"
      ],
      "metadata": {
        "id": "KNKf5Hm17-lJ"
      }
    },
    {
      "cell_type": "code",
      "source": [
        "(volume_normal[\"receitas_disp\"].count() / dados[\"receitas_disp\"].count()) * 100"
      ],
      "metadata": {
        "id": "XyCl1Emqjr_-",
        "outputId": "b3a92911-b584-4cfe-b587-d85396abea01",
        "colab": {
          "base_uri": "https://localhost:8080/"
        }
      },
      "execution_count": 93,
      "outputs": [
        {
          "output_type": "execute_result",
          "data": {
            "text/plain": [
              "55.91397849462365"
            ]
          },
          "metadata": {},
          "execution_count": 93
        }
      ]
    },
    {
      "cell_type": "markdown",
      "source": [
        "# Alto volume\n",
        "Lojas com volume total de dispensações por mês acima do valor definido pela variável limite_volume_normal."
      ],
      "metadata": {
        "id": "L0q7WfjsZP1G"
      }
    },
    {
      "cell_type": "code",
      "source": [
        "alto_volume = dados.query(\"receitas_disp>{limite}\".format(limite=limite_volume_normal))"
      ],
      "metadata": {
        "id": "eGCZeXlTwBoL"
      },
      "execution_count": 94,
      "outputs": []
    },
    {
      "cell_type": "code",
      "source": [
        "alto_volume_total = alto_volume[\"receitas_disp\"].sum()"
      ],
      "metadata": {
        "id": "vxiGmAjxzzdj"
      },
      "execution_count": 95,
      "outputs": []
    },
    {
      "cell_type": "markdown",
      "source": [
        "### Total de lojas com alto volume de dispensações"
      ],
      "metadata": {
        "id": "RuSXkEYr6usA"
      }
    },
    {
      "cell_type": "code",
      "source": [
        "alto_volume[\"receitas_disp\"].count()"
      ],
      "metadata": {
        "id": "VH7jJYc33EwJ",
        "outputId": "2ff825cd-a404-43ff-8ee7-5e2a199b5709",
        "colab": {
          "base_uri": "https://localhost:8080/"
        }
      },
      "execution_count": 96,
      "outputs": [
        {
          "output_type": "execute_result",
          "data": {
            "text/plain": [
              "31"
            ]
          },
          "metadata": {},
          "execution_count": 96
        }
      ]
    },
    {
      "cell_type": "markdown",
      "source": [
        "### Total de dispensações do grupo"
      ],
      "metadata": {
        "id": "BLgEpayc61EI"
      }
    },
    {
      "cell_type": "code",
      "source": [
        "alto_volume_total"
      ],
      "metadata": {
        "id": "Zzq7CxAY4L-i",
        "outputId": "af52396d-70dd-4389-e173-b5739b9fcab1",
        "colab": {
          "base_uri": "https://localhost:8080/"
        }
      },
      "execution_count": 97,
      "outputs": [
        {
          "output_type": "execute_result",
          "data": {
            "text/plain": [
              "6116.0"
            ]
          },
          "metadata": {},
          "execution_count": 97
        }
      ]
    },
    {
      "cell_type": "markdown",
      "source": [
        "### Representação em relação ao volume total"
      ],
      "metadata": {
        "id": "kQjTWtbH6-8x"
      }
    },
    {
      "cell_type": "code",
      "source": [
        "(alto_volume_total / total) * 100"
      ],
      "metadata": {
        "id": "HVY3RKYD0CDa",
        "outputId": "07e05e6d-9097-4dd7-c415-918e022a3c33",
        "colab": {
          "base_uri": "https://localhost:8080/"
        }
      },
      "execution_count": 98,
      "outputs": [
        {
          "output_type": "execute_result",
          "data": {
            "text/plain": [
              "66.391663048198"
            ]
          },
          "metadata": {},
          "execution_count": 98
        }
      ]
    },
    {
      "cell_type": "markdown",
      "source": [
        "### Representação em relação ao total de lojas"
      ],
      "metadata": {
        "id": "EHDnk6v17L8X"
      }
    },
    {
      "cell_type": "code",
      "source": [
        "(alto_volume[\"receitas_disp\"].count() / dados[\"receitas_disp\"].count()) * 100"
      ],
      "metadata": {
        "id": "hP6VtTpfQI3E",
        "outputId": "eb95207c-14c0-44d2-b363-05882eec77a3",
        "colab": {
          "base_uri": "https://localhost:8080/"
        }
      },
      "execution_count": 99,
      "outputs": [
        {
          "output_type": "execute_result",
          "data": {
            "text/plain": [
              "16.666666666666664"
            ]
          },
          "metadata": {},
          "execution_count": 99
        }
      ]
    },
    {
      "cell_type": "markdown",
      "source": [
        "# Sem dispensações\n",
        "Lojas que não realizaram dispensação de receitas"
      ],
      "metadata": {
        "id": "VBHjFH8vQ4-o"
      }
    },
    {
      "cell_type": "code",
      "source": [
        "sem_dispensacoes = dados.query(\"receitas_disp==0\")"
      ],
      "metadata": {
        "id": "qBQvlNhzGowo"
      },
      "execution_count": 100,
      "outputs": []
    },
    {
      "cell_type": "markdown",
      "source": [
        "### Total de lojas do grupo"
      ],
      "metadata": {
        "id": "4wlVOsch7Z6f"
      }
    },
    {
      "cell_type": "code",
      "source": [
        "sem_dispensacoes[\"receitas_disp\"].count()"
      ],
      "metadata": {
        "id": "cDxXhluNHFRT",
        "outputId": "09bba53e-d3ae-44b6-a64f-643d5c5c2dd9",
        "colab": {
          "base_uri": "https://localhost:8080/"
        }
      },
      "execution_count": 101,
      "outputs": [
        {
          "output_type": "execute_result",
          "data": {
            "text/plain": [
              "51"
            ]
          },
          "metadata": {},
          "execution_count": 101
        }
      ]
    },
    {
      "cell_type": "markdown",
      "source": [
        "### Representação em relação ao total de lojas"
      ],
      "metadata": {
        "id": "BMSNObMB7fei"
      }
    },
    {
      "cell_type": "code",
      "source": [
        "(sem_dispensacoes[\"receitas_disp\"].count() / dados[\"receitas_disp\"].count()) * 100"
      ],
      "metadata": {
        "id": "VcF_gMDZHQ7x",
        "outputId": "716ab3dc-3646-4d50-a320-61240237b875",
        "colab": {
          "base_uri": "https://localhost:8080/"
        }
      },
      "execution_count": 102,
      "outputs": [
        {
          "output_type": "execute_result",
          "data": {
            "text/plain": [
              "27.419354838709676"
            ]
          },
          "metadata": {},
          "execution_count": 102
        }
      ]
    },
    {
      "cell_type": "markdown",
      "source": [],
      "metadata": {
        "id": "qzvjcZhQ7i3Q"
      }
    },
    {
      "cell_type": "markdown",
      "source": [
        "#Resumo"
      ],
      "metadata": {
        "id": "3wiiivjSlxCy"
      }
    },
    {
      "cell_type": "code",
      "source": [
        "resumo = np.array([[\"Normal ({limite})\".format(limite=limite_volume_normal), volume_normal[\"receitas_disp\"].count()],\n",
        "   [\"Alto (+{limite})\".format(limite=limite_volume_normal), alto_volume[\"receitas_disp\"].count()],\n",
        "   ['Sem dispensações', sem_dispensacoes[\"receitas_disp\"].count()]])"
      ],
      "metadata": {
        "id": "pW_05uIJlzNX"
      },
      "execution_count": 103,
      "outputs": []
    },
    {
      "cell_type": "code",
      "source": [
        "dfresumo = pd.DataFrame(resumo, index=range(100,103),columns=['Status', 'Quantidade'])"
      ],
      "metadata": {
        "id": "CUGGaru8mRRZ"
      },
      "execution_count": 104,
      "outputs": []
    },
    {
      "cell_type": "code",
      "source": [
        "dfresumo"
      ],
      "metadata": {
        "colab": {
          "base_uri": "https://localhost:8080/",
          "height": 143
        },
        "id": "OXfmHx_WmS8Y",
        "outputId": "4b772b7a-786f-45e2-ccfc-93fa36904f73"
      },
      "execution_count": 105,
      "outputs": [
        {
          "output_type": "execute_result",
          "data": {
            "text/plain": [
              "               Status Quantidade\n",
              "100      Normal (100)        104\n",
              "101       Alto (+100)         31\n",
              "102  Sem dispensações         51"
            ],
            "text/html": [
              "\n",
              "  <div id=\"df-d2270d14-5599-42e8-8443-e4cc6dc10ec3\">\n",
              "    <div class=\"colab-df-container\">\n",
              "      <div>\n",
              "<style scoped>\n",
              "    .dataframe tbody tr th:only-of-type {\n",
              "        vertical-align: middle;\n",
              "    }\n",
              "\n",
              "    .dataframe tbody tr th {\n",
              "        vertical-align: top;\n",
              "    }\n",
              "\n",
              "    .dataframe thead th {\n",
              "        text-align: right;\n",
              "    }\n",
              "</style>\n",
              "<table border=\"1\" class=\"dataframe\">\n",
              "  <thead>\n",
              "    <tr style=\"text-align: right;\">\n",
              "      <th></th>\n",
              "      <th>Status</th>\n",
              "      <th>Quantidade</th>\n",
              "    </tr>\n",
              "  </thead>\n",
              "  <tbody>\n",
              "    <tr>\n",
              "      <th>100</th>\n",
              "      <td>Normal (100)</td>\n",
              "      <td>104</td>\n",
              "    </tr>\n",
              "    <tr>\n",
              "      <th>101</th>\n",
              "      <td>Alto (+100)</td>\n",
              "      <td>31</td>\n",
              "    </tr>\n",
              "    <tr>\n",
              "      <th>102</th>\n",
              "      <td>Sem dispensações</td>\n",
              "      <td>51</td>\n",
              "    </tr>\n",
              "  </tbody>\n",
              "</table>\n",
              "</div>\n",
              "      <button class=\"colab-df-convert\" onclick=\"convertToInteractive('df-d2270d14-5599-42e8-8443-e4cc6dc10ec3')\"\n",
              "              title=\"Convert this dataframe to an interactive table.\"\n",
              "              style=\"display:none;\">\n",
              "        \n",
              "  <svg xmlns=\"http://www.w3.org/2000/svg\" height=\"24px\"viewBox=\"0 0 24 24\"\n",
              "       width=\"24px\">\n",
              "    <path d=\"M0 0h24v24H0V0z\" fill=\"none\"/>\n",
              "    <path d=\"M18.56 5.44l.94 2.06.94-2.06 2.06-.94-2.06-.94-.94-2.06-.94 2.06-2.06.94zm-11 1L8.5 8.5l.94-2.06 2.06-.94-2.06-.94L8.5 2.5l-.94 2.06-2.06.94zm10 10l.94 2.06.94-2.06 2.06-.94-2.06-.94-.94-2.06-.94 2.06-2.06.94z\"/><path d=\"M17.41 7.96l-1.37-1.37c-.4-.4-.92-.59-1.43-.59-.52 0-1.04.2-1.43.59L10.3 9.45l-7.72 7.72c-.78.78-.78 2.05 0 2.83L4 21.41c.39.39.9.59 1.41.59.51 0 1.02-.2 1.41-.59l7.78-7.78 2.81-2.81c.8-.78.8-2.07 0-2.86zM5.41 20L4 18.59l7.72-7.72 1.47 1.35L5.41 20z\"/>\n",
              "  </svg>\n",
              "      </button>\n",
              "      \n",
              "  <style>\n",
              "    .colab-df-container {\n",
              "      display:flex;\n",
              "      flex-wrap:wrap;\n",
              "      gap: 12px;\n",
              "    }\n",
              "\n",
              "    .colab-df-convert {\n",
              "      background-color: #E8F0FE;\n",
              "      border: none;\n",
              "      border-radius: 50%;\n",
              "      cursor: pointer;\n",
              "      display: none;\n",
              "      fill: #1967D2;\n",
              "      height: 32px;\n",
              "      padding: 0 0 0 0;\n",
              "      width: 32px;\n",
              "    }\n",
              "\n",
              "    .colab-df-convert:hover {\n",
              "      background-color: #E2EBFA;\n",
              "      box-shadow: 0px 1px 2px rgba(60, 64, 67, 0.3), 0px 1px 3px 1px rgba(60, 64, 67, 0.15);\n",
              "      fill: #174EA6;\n",
              "    }\n",
              "\n",
              "    [theme=dark] .colab-df-convert {\n",
              "      background-color: #3B4455;\n",
              "      fill: #D2E3FC;\n",
              "    }\n",
              "\n",
              "    [theme=dark] .colab-df-convert:hover {\n",
              "      background-color: #434B5C;\n",
              "      box-shadow: 0px 1px 3px 1px rgba(0, 0, 0, 0.15);\n",
              "      filter: drop-shadow(0px 1px 2px rgba(0, 0, 0, 0.3));\n",
              "      fill: #FFFFFF;\n",
              "    }\n",
              "  </style>\n",
              "\n",
              "      <script>\n",
              "        const buttonEl =\n",
              "          document.querySelector('#df-d2270d14-5599-42e8-8443-e4cc6dc10ec3 button.colab-df-convert');\n",
              "        buttonEl.style.display =\n",
              "          google.colab.kernel.accessAllowed ? 'block' : 'none';\n",
              "\n",
              "        async function convertToInteractive(key) {\n",
              "          const element = document.querySelector('#df-d2270d14-5599-42e8-8443-e4cc6dc10ec3');\n",
              "          const dataTable =\n",
              "            await google.colab.kernel.invokeFunction('convertToInteractive',\n",
              "                                                     [key], {});\n",
              "          if (!dataTable) return;\n",
              "\n",
              "          const docLinkHtml = 'Like what you see? Visit the ' +\n",
              "            '<a target=\"_blank\" href=https://colab.research.google.com/notebooks/data_table.ipynb>data table notebook</a>'\n",
              "            + ' to learn more about interactive tables.';\n",
              "          element.innerHTML = '';\n",
              "          dataTable['output_type'] = 'display_data';\n",
              "          await google.colab.output.renderOutput(dataTable, element);\n",
              "          const docLink = document.createElement('div');\n",
              "          docLink.innerHTML = docLinkHtml;\n",
              "          element.appendChild(docLink);\n",
              "        }\n",
              "      </script>\n",
              "    </div>\n",
              "  </div>\n",
              "  "
            ]
          },
          "metadata": {},
          "execution_count": 105
        }
      ]
    },
    {
      "cell_type": "code",
      "source": [
        "fig1, ax1 = plt.subplots(figsize=(8,8))\n",
        "ax1.pie(x = dfresumo['Quantidade'], labels = dfresumo['Status'], autopct='%1.1f%%')\n",
        "ax1.set_title('Volume de dispensações por mês')\n",
        "plt.show()"
      ],
      "metadata": {
        "colab": {
          "base_uri": "https://localhost:8080/",
          "height": 482
        },
        "id": "io03E3G-mY97",
        "outputId": "bf9be98c-d7ff-47d4-89c7-3fd9150bb72e"
      },
      "execution_count": 106,
      "outputs": [
        {
          "output_type": "display_data",
          "data": {
            "text/plain": [
              "<Figure size 576x576 with 1 Axes>"
            ],
            "image/png": "[encoded data removed]"
          },
          "metadata": {}
        }
      ]
    },
    {
      "cell_type": "markdown",
      "source": [
        "## Exportando as lojas em planilhas agrupadas por volume"
      ],
      "metadata": {
        "id": "NAH6pVob4Ftl"
      }
    },
    {
      "cell_type": "code",
      "source": [
        "volume_normal.to_excel('lojas_dispensacoes_volume_normal.xlsx')"
      ],
      "metadata": {
        "id": "usIL8i_L3qRZ"
      },
      "execution_count": 107,
      "outputs": []
    },
    {
      "cell_type": "code",
      "source": [
        "alto_volume.to_excel('lojas_dispensacoes_volume_alto.xlsx')"
      ],
      "metadata": {
        "id": "dPyru_oZ3zKh"
      },
      "execution_count": 108,
      "outputs": []
    },
    {
      "cell_type": "code",
      "source": [
        "sem_dispensacoes.to_excel('lojas_sem_dispensacoes.xlsx')"
      ],
      "metadata": {
        "id": "C0S5nZRM3604"
      },
      "execution_count": 109,
      "outputs": []
    }
  ]
}