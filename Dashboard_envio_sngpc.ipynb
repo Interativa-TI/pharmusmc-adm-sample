{
  "nbformat": 4,
  "nbformat_minor": 0,
  "metadata": {
    "colab": {
      "provenance": [],
      "authorship_tag": "ABX9TyMdEBTzc5HBzZHcInm2XJ+v",
      "include_colab_link": true
    },
    "kernelspec": {
      "name": "python3",
      "display_name": "Python 3"
    },
    "language_info": {
      "name": "python"
    }
  },
  "cells": [
    {
      "cell_type": "markdown",
      "metadata": {
        "id": "view-in-github",
        "colab_type": "text"
      },
      "source": [
        "<a href=\"https://colab.research.google.com/github/Interativa-TI/pharmusmc-adm-sample/blob/main/Dashboard_envio_sngpc.ipynb\" target=\"_parent\"><img src=\"https://colab.research.google.com/assets/colab-badge.svg\" alt=\"Open In Colab\"/></a>"
      ]
    },
    {
      "cell_type": "markdown",
      "source": [
        "# Pharmus MC\n",
        "##Exemplo de análise\n",
        "* Importação da planilha **dashboard_clientes.xlsx**\n",
        "* Análise da métrica Data de envio de arquivo de movimentação ao SNGPC"
      ],
      "metadata": {
        "id": "5a2t0IIGHcMJ"
      }
    },
    {
      "cell_type": "markdown",
      "source": [
        "#Preparando o ambiente"
      ],
      "metadata": {
        "id": "SZC4cyGcGn7l"
      }
    },
    {
      "cell_type": "code",
      "execution_count": 1,
      "metadata": {
        "id": "GJJz1Y5AFgjS"
      },
      "outputs": [],
      "source": [
        "import pandas as pd"
      ]
    },
    {
      "cell_type": "code",
      "source": [
        "import numpy as np"
      ],
      "metadata": {
        "id": "F0i30UTWdGkT"
      },
      "execution_count": 2,
      "outputs": []
    },
    {
      "cell_type": "code",
      "source": [
        "from datetime import date"
      ],
      "metadata": {
        "id": "Vv30HMHnX2Rp"
      },
      "execution_count": 3,
      "outputs": []
    },
    {
      "cell_type": "code",
      "source": [
        "import warnings\n",
        "warnings.filterwarnings('ignore')"
      ],
      "metadata": {
        "id": "KyLK_Y3pwMEg"
      },
      "execution_count": 4,
      "outputs": []
    },
    {
      "cell_type": "code",
      "source": [
        "import seaborn as sns"
      ],
      "metadata": {
        "id": "aTwLFJvKxTo5"
      },
      "execution_count": 5,
      "outputs": []
    },
    {
      "cell_type": "code",
      "source": [
        "from string import ascii_letters\n",
        "import matplotlib.pyplot as plt"
      ],
      "metadata": {
        "id": "AQtTnjJQxXBI"
      },
      "execution_count": 6,
      "outputs": []
    },
    {
      "cell_type": "code",
      "source": [
        "sns.set_style(\"whitegrid\")"
      ],
      "metadata": {
        "id": "ZiWz3nMuxfIg"
      },
      "execution_count": 7,
      "outputs": []
    },
    {
      "cell_type": "markdown",
      "source": [
        "#Importando e tratando os dados da planilha\n",
        "\n",
        "Importa a planilha e separa as lojas em 3 grupos:\n",
        "\n",
        "*   Em dia\n",
        "*   Atrasados\n",
        "*   Inativos\n",
        "\n"
      ],
      "metadata": {
        "id": "rIoQDbT4Gvmq"
      }
    },
    {
      "cell_type": "code",
      "source": [
        "dados = pd.read_excel('dashboard_clientes.xlsx', index_col=None, header=None, skiprows=1, dtype={0: str, 1: str, 2: str})"
      ],
      "metadata": {
        "id": "1owyi69_FrH8"
      },
      "execution_count": 8,
      "outputs": []
    },
    {
      "cell_type": "code",
      "source": [
        "envio_sngpc = dados[[0, 12]]"
      ],
      "metadata": {
        "id": "RWCewMIFHACa"
      },
      "execution_count": 9,
      "outputs": []
    },
    {
      "cell_type": "code",
      "source": [
        "envio_sngpc.columns = ['cnpj', 'data_envio']"
      ],
      "metadata": {
        "id": "EVlAXFhzH5Yi"
      },
      "execution_count": 10,
      "outputs": []
    },
    {
      "cell_type": "code",
      "source": [
        "envio_sngpc['data_envio'] = pd.to_datetime(envio_sngpc['data_envio'])"
      ],
      "metadata": {
        "id": "WeVqrgC_ap6q"
      },
      "execution_count": 11,
      "outputs": []
    },
    {
      "cell_type": "code",
      "source": [
        "inativos = envio_sngpc.loc[(envio_sngpc['data_envio'] < '1970-01-01')]"
      ],
      "metadata": {
        "id": "JRrOSdHeKjNK"
      },
      "execution_count": 12,
      "outputs": []
    },
    {
      "cell_type": "code",
      "source": [
        "envio_sngpc[\"inativo\"] = envio_sngpc['data_envio'] < '1970-01-01'"
      ],
      "metadata": {
        "id": "DA6Qu9DjXpAx"
      },
      "execution_count": 13,
      "outputs": []
    },
    {
      "cell_type": "code",
      "source": [
        "envio_sngpc['hoje'] = date.today()"
      ],
      "metadata": {
        "id": "OKZtLLzdYhMJ"
      },
      "execution_count": 14,
      "outputs": []
    },
    {
      "cell_type": "code",
      "source": [
        "envio_sngpc['hoje'] = pd.to_datetime(envio_sngpc['hoje'])"
      ],
      "metadata": {
        "id": "olTn_SW8bAJh"
      },
      "execution_count": 15,
      "outputs": []
    },
    {
      "cell_type": "code",
      "source": [
        "envio_sngpc['dias'] = envio_sngpc['hoje'] - envio_sngpc['data_envio']"
      ],
      "metadata": {
        "id": "FIIx5xoaZak7"
      },
      "execution_count": 16,
      "outputs": []
    },
    {
      "cell_type": "code",
      "source": [
        "envio_sngpc['diasdiff'] = (envio_sngpc['dias'] / np.timedelta64(1,'D')).astype(int)"
      ],
      "metadata": {
        "id": "lORROE01bPsR"
      },
      "execution_count": 17,
      "outputs": []
    },
    {
      "cell_type": "code",
      "source": [
        "atrasados = envio_sngpc.query('inativo == False').query('diasdiff > 7')"
      ],
      "metadata": {
        "id": "E2z8o1DseVrS"
      },
      "execution_count": 18,
      "outputs": []
    },
    {
      "cell_type": "code",
      "source": [
        "em_dia = envio_sngpc.query('inativo == False').query('diasdiff <= 7')"
      ],
      "metadata": {
        "id": "0rLsEX0nu_Z8"
      },
      "execution_count": 19,
      "outputs": []
    },
    {
      "cell_type": "markdown",
      "source": [
        "#Resumo"
      ],
      "metadata": {
        "id": "sUbGizx_KRyx"
      }
    },
    {
      "cell_type": "markdown",
      "source": [
        "### Dispersão das lojas com envio do arquivo dentro do prazo de 7 dias"
      ],
      "metadata": {
        "id": "BRMj1jm0P8wX"
      }
    },
    {
      "cell_type": "code",
      "source": [
        "plt.xlabel('Lojas')\n",
        "plt.ylabel('Dias')\n",
        "plt.title('Envio ao SNGPC - Em dia')\n",
        "sns.scatterplot(data = em_dia[\"diasdiff\"])\n",
        "plt.show()"
      ],
      "metadata": {
        "colab": {
          "base_uri": "https://localhost:8080/",
          "height": 295
        },
        "id": "AWYgmo_MxJYS",
        "outputId": "0b6adac5-47ea-4a00-fbc3-d6036108cf9a"
      },
      "execution_count": 20,
      "outputs": [
        {
          "output_type": "display_data",
          "data": {
            "text/plain": [
              "<Figure size 432x288 with 1 Axes>"
            ],
            "image/png": "[encoded data removed]"
          },
          "metadata": {}
        }
      ]
    },
    {
      "cell_type": "markdown",
      "source": [
        "### Dispersão das lojas com envio do arquivo atrasadas"
      ],
      "metadata": {
        "id": "ChC37C9cQBtl"
      }
    },
    {
      "cell_type": "code",
      "source": [
        "plt.xlabel('Lojas')\n",
        "plt.ylabel('Dias')\n",
        "plt.title('Envio ao SNGPC - Em atraso')\n",
        "sns.scatterplot(data = atrasados[\"diasdiff\"])\n",
        "plt.show()"
      ],
      "metadata": {
        "colab": {
          "base_uri": "https://localhost:8080/",
          "height": 295
        },
        "id": "H_n8ERhUzXj5",
        "outputId": "b01f9485-5a74-4933-8250-99298d7e33c7"
      },
      "execution_count": 21,
      "outputs": [
        {
          "output_type": "display_data",
          "data": {
            "text/plain": [
              "<Figure size 432x288 with 1 Axes>"
            ],
            "image/png": "[encoded data removed]"
          },
          "metadata": {}
        }
      ]
    },
    {
      "cell_type": "markdown",
      "source": [
        "### Visão Geral"
      ],
      "metadata": {
        "id": "wKG6kLDRJsnJ"
      }
    },
    {
      "cell_type": "code",
      "source": [
        "resumo = np.array([['Em dia', em_dia['data_envio'].count()],\n",
        "   ['Atrasados', atrasados['data_envio'].count()],\n",
        "   ['Inativos', inativos['data_envio'].count()]])"
      ],
      "metadata": {
        "id": "XJ-F0EALbdhY"
      },
      "execution_count": 22,
      "outputs": []
    },
    {
      "cell_type": "code",
      "source": [
        "dfresumo = pd.DataFrame(resumo, index=range(100,103),columns=['Status', 'Quantidade'])"
      ],
      "metadata": {
        "id": "V8IUkbLacz9f"
      },
      "execution_count": 23,
      "outputs": []
    },
    {
      "cell_type": "code",
      "source": [
        "dfresumo"
      ],
      "metadata": {
        "colab": {
          "base_uri": "https://localhost:8080/",
          "height": 143
        },
        "id": "zr1HophfcenO",
        "outputId": "f7eae763-00ba-452f-f3ef-9406a1055312"
      },
      "execution_count": 24,
      "outputs": [
        {
          "output_type": "execute_result",
          "data": {
            "text/plain": [
              "        Status Quantidade\n",
              "100     Em dia         25\n",
              "101  Atrasados         37\n",
              "102   Inativos        124"
            ],
            "text/html": [
              "\n",
              "  <div id=\"df-e2cf9ac3-6098-4c02-ba0a-8edde6d15ee5\">\n",
              "    <div class=\"colab-df-container\">\n",
              "      <div>\n",
              "<style scoped>\n",
              "    .dataframe tbody tr th:only-of-type {\n",
              "        vertical-align: middle;\n",
              "    }\n",
              "\n",
              "    .dataframe tbody tr th {\n",
              "        vertical-align: top;\n",
              "    }\n",
              "\n",
              "    .dataframe thead th {\n",
              "        text-align: right;\n",
              "    }\n",
              "</style>\n",
              "<table border=\"1\" class=\"dataframe\">\n",
              "  <thead>\n",
              "    <tr style=\"text-align: right;\">\n",
              "      <th></th>\n",
              "      <th>Status</th>\n",
              "      <th>Quantidade</th>\n",
              "    </tr>\n",
              "  </thead>\n",
              "  <tbody>\n",
              "    <tr>\n",
              "      <th>100</th>\n",
              "      <td>Em dia</td>\n",
              "      <td>25</td>\n",
              "    </tr>\n",
              "    <tr>\n",
              "      <th>101</th>\n",
              "      <td>Atrasados</td>\n",
              "      <td>37</td>\n",
              "    </tr>\n",
              "    <tr>\n",
              "      <th>102</th>\n",
              "      <td>Inativos</td>\n",
              "      <td>124</td>\n",
              "    </tr>\n",
              "  </tbody>\n",
              "</table>\n",
              "</div>\n",
              "      <button class=\"colab-df-convert\" onclick=\"convertToInteractive('df-e2cf9ac3-6098-4c02-ba0a-8edde6d15ee5')\"\n",
              "              title=\"Convert this dataframe to an interactive table.\"\n",
              "              style=\"display:none;\">\n",
              "        \n",
              "  <svg xmlns=\"http://www.w3.org/2000/svg\" height=\"24px\"viewBox=\"0 0 24 24\"\n",
              "       width=\"24px\">\n",
              "    <path d=\"M0 0h24v24H0V0z\" fill=\"none\"/>\n",
              "    <path d=\"M18.56 5.44l.94 2.06.94-2.06 2.06-.94-2.06-.94-.94-2.06-.94 2.06-2.06.94zm-11 1L8.5 8.5l.94-2.06 2.06-.94-2.06-.94L8.5 2.5l-.94 2.06-2.06.94zm10 10l.94 2.06.94-2.06 2.06-.94-2.06-.94-.94-2.06-.94 2.06-2.06.94z\"/><path d=\"M17.41 7.96l-1.37-1.37c-.4-.4-.92-.59-1.43-.59-.52 0-1.04.2-1.43.59L10.3 9.45l-7.72 7.72c-.78.78-.78 2.05 0 2.83L4 21.41c.39.39.9.59 1.41.59.51 0 1.02-.2 1.41-.59l7.78-7.78 2.81-2.81c.8-.78.8-2.07 0-2.86zM5.41 20L4 18.59l7.72-7.72 1.47 1.35L5.41 20z\"/>\n",
              "  </svg>\n",
              "      </button>\n",
              "      \n",
              "  <style>\n",
              "    .colab-df-container {\n",
              "      display:flex;\n",
              "      flex-wrap:wrap;\n",
              "      gap: 12px;\n",
              "    }\n",
              "\n",
              "    .colab-df-convert {\n",
              "      background-color: #E8F0FE;\n",
              "      border: none;\n",
              "      border-radius: 50%;\n",
              "      cursor: pointer;\n",
              "      display: none;\n",
              "      fill: #1967D2;\n",
              "      height: 32px;\n",
              "      padding: 0 0 0 0;\n",
              "      width: 32px;\n",
              "    }\n",
              "\n",
              "    .colab-df-convert:hover {\n",
              "      background-color: #E2EBFA;\n",
              "      box-shadow: 0px 1px 2px rgba(60, 64, 67, 0.3), 0px 1px 3px 1px rgba(60, 64, 67, 0.15);\n",
              "      fill: #174EA6;\n",
              "    }\n",
              "\n",
              "    [theme=dark] .colab-df-convert {\n",
              "      background-color: #3B4455;\n",
              "      fill: #D2E3FC;\n",
              "    }\n",
              "\n",
              "    [theme=dark] .colab-df-convert:hover {\n",
              "      background-color: #434B5C;\n",
              "      box-shadow: 0px 1px 3px 1px rgba(0, 0, 0, 0.15);\n",
              "      filter: drop-shadow(0px 1px 2px rgba(0, 0, 0, 0.3));\n",
              "      fill: #FFFFFF;\n",
              "    }\n",
              "  </style>\n",
              "\n",
              "      <script>\n",
              "        const buttonEl =\n",
              "          document.querySelector('#df-e2cf9ac3-6098-4c02-ba0a-8edde6d15ee5 button.colab-df-convert');\n",
              "        buttonEl.style.display =\n",
              "          google.colab.kernel.accessAllowed ? 'block' : 'none';\n",
              "\n",
              "        async function convertToInteractive(key) {\n",
              "          const element = document.querySelector('#df-e2cf9ac3-6098-4c02-ba0a-8edde6d15ee5');\n",
              "          const dataTable =\n",
              "            await google.colab.kernel.invokeFunction('convertToInteractive',\n",
              "                                                     [key], {});\n",
              "          if (!dataTable) return;\n",
              "\n",
              "          const docLinkHtml = 'Like what you see? Visit the ' +\n",
              "            '<a target=\"_blank\" href=https://colab.research.google.com/notebooks/data_table.ipynb>data table notebook</a>'\n",
              "            + ' to learn more about interactive tables.';\n",
              "          element.innerHTML = '';\n",
              "          dataTable['output_type'] = 'display_data';\n",
              "          await google.colab.output.renderOutput(dataTable, element);\n",
              "          const docLink = document.createElement('div');\n",
              "          docLink.innerHTML = docLinkHtml;\n",
              "          element.appendChild(docLink);\n",
              "        }\n",
              "      </script>\n",
              "    </div>\n",
              "  </div>\n",
              "  "
            ]
          },
          "metadata": {},
          "execution_count": 24
        }
      ]
    },
    {
      "cell_type": "code",
      "source": [
        "fig1, ax1 = plt.subplots(figsize=(8,8))\n",
        "ax1.pie(x = dfresumo['Quantidade'], labels = dfresumo['Status'], autopct='%1.1f%%')\n",
        "ax1.set_title('Situação Envio SNGPC - Total de {lojas} lojas'.format(lojas=envio_sngpc['data_envio'].count()))\n",
        "plt.show()"
      ],
      "metadata": {
        "colab": {
          "base_uri": "https://localhost:8080/",
          "height": 482
        },
        "id": "G1eCeCgXK0Yc",
        "outputId": "5a285f80-0965-4a87-ead6-a7608d37b456"
      },
      "execution_count": 25,
      "outputs": [
        {
          "output_type": "display_data",
          "data": {
            "text/plain": [
              "<Figure size 576x576 with 1 Axes>"
            ],
            "image/png": "[encoded data removed]"
          },
          "metadata": {}
        }
      ]
    },
    {
      "cell_type": "markdown",
      "source": [
        "##Exportando os grupos de lojas em planilhas"
      ],
      "metadata": {
        "id": "d21zrMWPBtbd"
      }
    },
    {
      "cell_type": "code",
      "source": [
        "em_dia.to_excel('sngpc_lojas_em_dia.xlsx')"
      ],
      "metadata": {
        "id": "muIOqee5BsoE"
      },
      "execution_count": 26,
      "outputs": []
    },
    {
      "cell_type": "code",
      "source": [
        "atrasados.to_excel('sngpc_lojas_atrasados.xlsx')"
      ],
      "metadata": {
        "id": "RGpzikJICGL1"
      },
      "execution_count": 27,
      "outputs": []
    },
    {
      "cell_type": "code",
      "source": [
        "inativos.to_excel('sngpc_lojas_inativas.xlsx')"
      ],
      "metadata": {
        "id": "G6DkSbarCN4d"
      },
      "execution_count": 28,
      "outputs": []
    }
  ]
}